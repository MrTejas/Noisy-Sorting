{
 "cells": [
  {
   "cell_type": "code",
   "execution_count": 143,
   "metadata": {},
   "outputs": [],
   "source": [
    "import numpy as np\n",
    "import random\n",
    "import math\n",
    "import matplotlib.pyplot as plt\n"
   ]
  },
  {
   "cell_type": "code",
   "execution_count": 144,
   "metadata": {},
   "outputs": [],
   "source": [
    "def FLBZ(ar,num,m,p):\n",
    "    if p>=0.5 or p<0:\n",
    "        print('p value out of range')\n",
    "        return\n",
    "    \n",
    "    max_elem = np.max(ar)\n",
    "    min_elem = np.min(ar)\n",
    "    # padding the array with -inf and inf\n",
    "    ar = np.insert(ar,0,min_elem-1)\n",
    "    ar = np.append(ar,max_elem+1)\n",
    "    \n",
    "    n = len(ar)\n",
    "    \n",
    "    a = math.sqrt(p)/(math.sqrt(p)+math.sqrt(1-p))\n",
    "    if a<=p or a>=0.5:\n",
    "        print('alpha value out of range',a)\n",
    "        return\n",
    "    \n",
    "    \n",
    "    \n",
    "    \n",
    "    # creating the intervals pdf\n",
    "    q = np.ones(n)/n\n",
    "    \n",
    "    for k in range(m):\n",
    "        # print('q : ',np.round(q,2))\n",
    "        # print('sum q : ',np.sum(q))\n",
    "        sum = 0\n",
    "        j = -1\n",
    "        while sum<=0.5:\n",
    "            j = j + 1\n",
    "            sum = sum + q[j]\n",
    "            # print(sum)\n",
    "        p_star = (sum-0.5)/q[j]\n",
    "        ch = (random.random()<p_star)\n",
    "        j_star = j-1 if ch else j\n",
    "        Y = 1 if ar[j_star]<num else 0\n",
    "        N = 1 if random.random()<p else 0\n",
    "        Y = Y ^ N\n",
    "        t = 2*(sum-0.5) if j_star==j else 2*(sum-q[j]-0.5)\n",
    "        for i in range(n):\n",
    "            if ((Y)==(i>=j_star)):\n",
    "                q[i] = (2*(1-a)*q[i])/(1+(1-2*Y)*(1-2*a)*t)\n",
    "            else:\n",
    "                q[i] = (2*(a)*q[i])/(1+(1-2*Y)*(1-2*a)*t)\n",
    "        q = q/np.sum(q)\n",
    "    l = np.argmax(q)\n",
    "    return l\n",
    "        "
   ]
  },
  {
   "cell_type": "code",
   "execution_count": 145,
   "metadata": {},
   "outputs": [],
   "source": [
    "def FL_NoisySorting(ar,M,p):\n",
    "    n = len(ar)\n",
    "    \n",
    "    # creating  a1 length array and pushing ar[last] into it\n",
    "    sigma = np.ones(1)*ar[n-1]\n",
    "    \n",
    "    # print(sigma)\n",
    "    for i in range(2,n+1):\n",
    "        num = ar[n-i]\n",
    "        l = FLBZ(sigma,num,math.floor(M/n),p)\n",
    "        sigma = np.concatenate((sigma[0:l],np.array([num]),sigma[l:]))\n",
    "        # print('l = ',l)\n",
    "        # print('concatenating : ',sigma[0:l],np.array([num]),sigma[l:])\n",
    "        # print(sigma)\n",
    "    \n",
    "    return sigma"
   ]
  },
  {
   "cell_type": "code",
   "execution_count": 146,
   "metadata": {},
   "outputs": [],
   "source": [
    "def mergeSort(arr, n):\n",
    "    temp_arr = [0]*n\n",
    "    return _mergeSort(arr, temp_arr, 0, n-1)\n",
    " \n",
    " \n",
    " \n",
    "def _mergeSort(arr, temp_arr, left, right): \n",
    "    inv_count = 0\n",
    " \n",
    "    if left < right:\n",
    "        mid = (left + right)//2\n",
    "        inv_count += _mergeSort(arr, temp_arr, left, mid)\n",
    "        inv_count += _mergeSort(arr, temp_arr, mid + 1, right)\n",
    "        inv_count += merge(arr, temp_arr, left, mid, right)\n",
    "    return inv_count\n",
    " \n",
    "def merge(arr, temp_arr, left, mid, right):\n",
    "    i = left     # Starting index of left subarray\n",
    "    j = mid + 1  # Starting index of right subarray\n",
    "    k = left     # Starting index of to be sorted subarray\n",
    "    inv_count = 0\n",
    "    while i <= mid and j <= right:\n",
    "        if arr[i] <= arr[j]:\n",
    "            temp_arr[k] = arr[i]\n",
    "            k += 1\n",
    "            i += 1\n",
    "        else:\n",
    "            temp_arr[k] = arr[j]\n",
    "            inv_count += (mid-i + 1)\n",
    "            k += 1\n",
    "            j += 1\n",
    " \n",
    "    while i <= mid:\n",
    "        temp_arr[k] = arr[i]\n",
    "        k += 1\n",
    "        i += 1\n",
    " \n",
    "    while j <= right:\n",
    "        temp_arr[k] = arr[j]\n",
    "        k += 1\n",
    "        j += 1\n",
    " \n",
    "    for loop_var in range(left, right + 1):\n",
    "        arr[loop_var] = temp_arr[loop_var]\n",
    " \n",
    "    return inv_count\n"
   ]
  },
  {
   "cell_type": "code",
   "execution_count": 157,
   "metadata": {},
   "outputs": [],
   "source": [
    "def test_FLBZ_NoisySorting(N,a,b,M,p):\n",
    "    # tests the FLBZ Noisy Sorting algo by on N-length random array of numbers [a,b]\n",
    "    ar = np.random.randint(a, b + 1, size=N) # generating the random array\n",
    "\n",
    "    br = (FL_NoisySorting(ar,M,p))\n",
    "    br = np.floor(br).astype(int) \n",
    "    n = len(br)\n",
    "    # print('original array : \\t',np.array(ar))\n",
    "    # print('sorted array : \\t\\t',br)\n",
    "    num_inversions = mergeSort(br,n)\n",
    "    inversion_fraction = round(num_inversions/(n*(n-1)/2),4)\n",
    "    # print('inversion percentage : ',inversion_fraction*100,'%')\n",
    "    # print('sorted array : ',br)\n",
    "    return inversion_fraction\n",
    "\n"
   ]
  },
  {
   "cell_type": "code",
   "execution_count": 178,
   "metadata": {},
   "outputs": [],
   "source": [
    "# takes an input crossover probability and verifies the probability of error for large N\n",
    "def verifyRate(p):\n",
    "    \n",
    "    \n",
    "    # calculating g(p)\n",
    "    g = 0.5 + math.sqrt(p*(1-p))\n",
    "    \n",
    "    # calculating upper bound on R\n",
    "    R_upper = 0.5*math.log2(1/g)\n",
    "    \n",
    "    # choosing a random value in the bounds\n",
    "    R = (random.uniform(0.1,R_upper))\n",
    "    \n",
    "    error_prob = np.array([])\n",
    "    N_max = 100\n",
    "    for n in range(10,N_max+1):\n",
    "        a,b = 0,math.ceil(n**(1.3))\n",
    "        M = math.ceil(n*math.log2(n)/R)\n",
    "        inv = test_FLBZ_NoisySorting(n,a,b,M,p)\n",
    "        error_prob = np.append(error_prob,inv)\n",
    "    \n",
    "    k = 10\n",
    "    k_window_avg = np.zeros(len(error_prob))\n",
    "\n",
    "    for i in range(len(error_prob)):\n",
    "        start = max(0, i - k + 1)\n",
    "        end = i + 1\n",
    "        k_window_avg[i] = np.mean(error_prob[start:end])\n",
    "    \n",
    "    \n",
    "    # print(error_prob)\n",
    "    plt.figure(figsize=(8, 4))\n",
    "    plt.plot(k_window_avg, linestyle='-', markersize=5)\n",
    "    plt.xlabel('N')\n",
    "    plt.ylabel('Error_Probability')\n",
    "    plt.title('Plot of Error_prob with respect to N (Interpolated)')\n",
    "    plt.grid(True)\n",
    "\n",
    "    # Show the plot\n",
    "    plt.show()\n",
    "        \n",
    "        \n",
    "    "
   ]
  },
  {
   "cell_type": "code",
   "execution_count": 134,
   "metadata": {},
   "outputs": [
    {
     "name": "stdout",
     "output_type": "stream",
     "text": [
      "Outputs for some trivial cases : \n",
      "ans =  0  expected = 0\n",
      "ans =  1  expected = 1\n",
      "ans =  2  expected = 2\n",
      "ans =  3  expected = 3\n",
      "ans =  3  expected = 4\n"
     ]
    }
   ],
   "source": [
    "print('Outputs for some trivial cases : ')\n",
    "m = 1000\n",
    "p = 0.3\n",
    "print('ans = ',str(FLBZ([1,3,8,12],0,m,p)),' expected =',0)\n",
    "print('ans = ',str(FLBZ([1,3,8,12],2,m,p)),' expected =',1)\n",
    "print('ans = ',str(FLBZ([1,3,8,12],6,m,p)),' expected =',2)\n",
    "print('ans = ',str(FLBZ([1,3,8,12],10,m,p)),' expected =',3)\n",
    "print('ans = ',str(FLBZ([1,3,8,12],16,m,p)),' expected =',4)\n"
   ]
  },
  {
   "cell_type": "code",
   "execution_count": 140,
   "metadata": {},
   "outputs": [
    {
     "name": "stdout",
     "output_type": "stream",
     "text": [
      "inversion percentage :  0.0 %\n",
      "sorted array :  [20 28 30 33 38 49 57 59 80 92]\n"
     ]
    }
   ],
   "source": [
    "N = 10 # length of ar to be generated randomly\n",
    "a,b = 1,100 # range of numbers in the array [a,b]\n",
    "M = 1000;# error probability tolerated for each VLBZ * n\n",
    "p = 0.30 # crossover probability\n",
    "\n",
    "res = test_FLBZ_NoisySorting(N,a,b,M,p)"
   ]
  },
  {
   "cell_type": "code",
   "execution_count": 179,
   "metadata": {},
   "outputs": [
    {
     "data": {
      "image/png": "[encoded data removed]",
      "text/plain": [
       "<Figure size 800x400 with 1 Axes>"
      ]
     },
     "metadata": {},
     "output_type": "display_data"
    }
   ],
   "source": [
    "verifyRate(0.1)"
   ]
  },
  {
   "cell_type": "code",
   "execution_count": null,
   "metadata": {},
   "outputs": [],
   "source": []
  }
 ],
 "metadata": {
  "kernelspec": {
   "display_name": "base",
   "language": "python",
   "name": "python3"
  },
  "language_info": {
   "codemirror_mode": {
    "name": "ipython",
    "version": 3
   },
   "file_extension": ".py",
   "mimetype": "text/x-python",
   "name": "python",
   "nbconvert_exporter": "python",
   "pygments_lexer": "ipython3",
   "version": "3.9.13"
  },
  "orig_nbformat": 4
 },
 "nbformat": 4,
 "nbformat_minor": 2
}
