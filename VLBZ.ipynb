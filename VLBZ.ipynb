{
 "cells": [
  {
   "cell_type": "code",
   "execution_count": 575,
   "id": "e448e8e0",
   "metadata": {},
   "outputs": [],
   "source": [
    "import numpy as np\n",
    "import random\n",
    "import math\n",
    "import pandas as pd\n",
    "import matplotlib.pyplot as plt\n",
    "from scipy.interpolate import interp1d\n"
   ]
  },
  {
   "cell_type": "code",
   "execution_count": null,
   "id": "ae7582b5",
   "metadata": {},
   "outputs": [],
   "source": [
    "num_queries = 0"
   ]
  },
  {
   "cell_type": "code",
   "execution_count": 422,
   "id": "a2f8de76",
   "metadata": {},
   "outputs": [],
   "source": [
    "def VLBZ(ar,num,Pe,p):\n",
    "    # Variable Length BZ Algorithm\n",
    "    # takes input array ar, tolerated prob Pe, and crossover prob p\n",
    "    \n",
    "    # appending -inf and inf to ends of array\n",
    "    ar = np.insert(ar,0,-100000000)\n",
    "    ar = np.append(ar,100000000)\n",
    "    \n",
    "    #  k = current step\n",
    "    k = 0\n",
    "    n = len(ar)\n",
    "    \n",
    "    # base case condition\n",
    "    if(n==1):\n",
    "        return 0 if num<ar[0] else 1\n",
    "    \n",
    "    # pdf of intervals and Z_k[i]\n",
    "    q = np.ones(n)/n\n",
    "    Z = 1/(1-q)\n",
    "    \n",
    "    # The algorithms terminates at M˜ th iteration, where M˜ is the smallest integer such that Z_M(i) ≥ − log(Pe)\n",
    "    while np.max(Z)<=math.log2(1/Pe):\n",
    "        k = k + 1\n",
    "        sum = 0\n",
    "        j = -1\n",
    "        \n",
    "        while sum<=0.5:\n",
    "            j = j + 1\n",
    "            sum = sum + q[j]\n",
    "        \n",
    "        # calculating j_star from j\n",
    "        t1 = 2*(1-sum+q[j]-0.5)\n",
    "        t2 = 2*(sum-0.5)\n",
    "        pi1 = (rho(t2,p)-rho(-t2,p))/(rho(t1,p)-rho(-t1,p)+rho(t2,p)-rho(-t2,p))\n",
    "        ch = (random.random()<pi1)\n",
    "        sub = 1 if ch else 0\n",
    "        j_star = j - sub\n",
    "        \n",
    "        # calculating t(k) for updating q\n",
    "        t = 2*(sum-q[j])-1 if j_star==j-1 else 2*(sum)-1\n",
    "        \n",
    "        # giving U_k = ar[j_star] and recieving noisy output Y\n",
    "        Y = 1 if ar[j_star]<num else 0\n",
    "        N = 1 if random.random()<p else 0\n",
    "        Y = Y ^ N\n",
    "        \n",
    "        # updating q - prob distribution of intervals\n",
    "        f1 = np.ones(n)\n",
    "        for i in range(n):\n",
    "            f1[i] = (2*(1-p)*q[i])/(1+(1-2*Y)*(1-2*p)*(t))\n",
    "        for i in range(n):\n",
    "            if Y==(j_star<i):\n",
    "                q[i] = f1[i]\n",
    "            else:\n",
    "                q[i] = p*f1[i]/(1-p)\n",
    "                \n",
    "        # updating Z_k\n",
    "        Z = q/(1-q)\n",
    "        \n",
    "    l = np.argmax(q)\n",
    "    return l-1\n",
    "\n",
    "def rho(x,p):\n",
    "    ans = (1-p)*math.log2(1+(1-2*p)*x) + p*math.log2(1-(1-2*p)*x)\n",
    "    return ans"
   ]
  },
  {
   "cell_type": "code",
   "execution_count": 385,
   "id": "9de77053",
   "metadata": {},
   "outputs": [],
   "source": [
    "def VL_NoisySorting(ar,Pe,p):\n",
    "    n = len(ar)\n",
    "    sigma = np.ones(1)*ar[n-1]\n",
    "    # print(sigma)\n",
    "    for i in range(2,n+1):\n",
    "        num = ar[n-i]\n",
    "        l = VLBZ(sigma,num,Pe/n,p)\n",
    "        sigma = np.concatenate((sigma[0:l],np.array([num]),sigma[l:]))\n",
    "        # print('l = ',l)\n",
    "        # print('concatenating : ',sigma[0:l],np.array([num]),sigma[l:])\n",
    "        # print(sigma)\n",
    "    \n",
    "    return sigma"
   ]
  },
  {
   "cell_type": "code",
   "execution_count": 368,
   "id": "65c3cc8d",
   "metadata": {},
   "outputs": [],
   "source": [
    "def mergeSort(arr, n):\n",
    "    temp_arr = [0]*n\n",
    "    return _mergeSort(arr, temp_arr, 0, n-1)\n",
    " \n",
    " \n",
    " \n",
    "def _mergeSort(arr, temp_arr, left, right): \n",
    "    inv_count = 0\n",
    " \n",
    "    if left < right:\n",
    "        mid = (left + right)//2\n",
    "        inv_count += _mergeSort(arr, temp_arr, left, mid)\n",
    "        inv_count += _mergeSort(arr, temp_arr, mid + 1, right)\n",
    "        inv_count += merge(arr, temp_arr, left, mid, right)\n",
    "    return inv_count\n",
    " \n",
    "def merge(arr, temp_arr, left, mid, right):\n",
    "    i = left     # Starting index of left subarray\n",
    "    j = mid + 1  # Starting index of right subarray\n",
    "    k = left     # Starting index of to be sorted subarray\n",
    "    inv_count = 0\n",
    "    while i <= mid and j <= right:\n",
    "        if arr[i] <= arr[j]:\n",
    "            temp_arr[k] = arr[i]\n",
    "            k += 1\n",
    "            i += 1\n",
    "        else:\n",
    "            temp_arr[k] = arr[j]\n",
    "            inv_count += (mid-i + 1)\n",
    "            k += 1\n",
    "            j += 1\n",
    " \n",
    "    while i <= mid:\n",
    "        temp_arr[k] = arr[i]\n",
    "        k += 1\n",
    "        i += 1\n",
    " \n",
    "    while j <= right:\n",
    "        temp_arr[k] = arr[j]\n",
    "        k += 1\n",
    "        j += 1\n",
    " \n",
    "    for loop_var in range(left, right + 1):\n",
    "        arr[loop_var] = temp_arr[loop_var]\n",
    " \n",
    "    return inv_count\n"
   ]
  },
  {
   "cell_type": "code",
   "execution_count": 265,
   "id": "e2216d9d",
   "metadata": {},
   "outputs": [
    {
     "name": "stdout",
     "output_type": "stream",
     "text": [
      "Outputs for some trivial cases : \n",
      "ans =  0  expected = 0\n",
      "ans =  1  expected = 1\n",
      "ans =  2  expected = 2\n",
      "ans =  3  expected = 3\n",
      "ans =  4  expected = 4\n"
     ]
    }
   ],
   "source": [
    "print('Outputs for some trivial cases : ')\n",
    "print('ans = ',str(VLBZ([1,3,8,12],0,0.1,0.3)),' expected =',0)\n",
    "print('ans = ',str(VLBZ([1,3,8,12],2,0.1,0.3)),' expected =',1)\n",
    "print('ans = ',str(VLBZ([1,3,8,12],6,0.1,0.3)),' expected =',2)\n",
    "print('ans = ',str(VLBZ([1,3,8,12],10,0.1,0.3)),' expected =',3)\n",
    "print('ans = ',str(VLBZ([1,3,8,12],16,0.1,0.3)),' expected =',4)\n"
   ]
  },
  {
   "cell_type": "code",
   "execution_count": 434,
   "id": "cb995ef2",
   "metadata": {},
   "outputs": [],
   "source": [
    "def test_VLBZ_NoisySorting(N,a,b,Pe,p):\n",
    "    # tests the VLBZ Noisy Sorting algo by on N-length random array of numbers [a,b]\n",
    "    ar = np.random.randint(a, b + 1, size=N) # generating the random array\n",
    "\n",
    "    br = (VL_NoisySorting(ar,Pe,p))\n",
    "    br = np.floor(br).astype(int) \n",
    "    n = len(br)\n",
    "    # print('original array : \\t',np.array(ar))\n",
    "    # print('sorted array : \\t\\t',br)\n",
    "    num_inversions = mergeSort(br,n)\n",
    "    inversion_fraction = round(num_inversions/(n*(n-1)/2),4)\n",
    "    print('inversion percentage : ',inversion_fraction*100,'%')\n",
    "    return inversion_fraction\n",
    "\n"
   ]
  },
  {
   "cell_type": "code",
   "execution_count": 528,
   "metadata": {},
   "outputs": [],
   "source": [
    "def save_observations(N,a,b,Pe,p,res):\n",
    "    file1 = open('./results.txt','a')\n",
    "    file1.write(str(N)+'\\t\\t'+str(Pe)+'\\t\\t'+str(p)+'\\t\\t'+str(a)+'\\t\\t'+str(b)+'\\t\\t'+str(res)+'\\n')\n",
    "    file1.close()"
   ]
  },
  {
   "cell_type": "code",
   "execution_count": 593,
   "id": "5af5198c",
   "metadata": {},
   "outputs": [],
   "source": [
    "def extract_columns_to_lists(filename, column_a, column_b):\n",
    "    # Initialize lists to store column a and column b values\n",
    "    X = []\n",
    "    Y = []\n",
    "\n",
    "    try:\n",
    "        # Open the file and read its contents\n",
    "        with open(filename, 'r') as file:\n",
    "            # Skip the first row (header)\n",
    "            next(file)\n",
    "\n",
    "            # Iterate through the remaining lines\n",
    "            for line in file:\n",
    "                # Split the line into values based on whitespace or tabs\n",
    "                values = line.strip().split('\\t\\t')\n",
    "\n",
    "                # Check if the line has enough columns\n",
    "                if len(values) > max(column_a, column_b):\n",
    "                    # Append the values from the specified columns to their respective lists\n",
    "                    X.append(values[column_a])\n",
    "                    Y.append(values[column_b])\n",
    "\n",
    "    except FileNotFoundError:\n",
    "        print(f\"File '{filename}' not found.\")\n",
    "        return\n",
    "    \n",
    "    X = [float(x) for x in X]\n",
    "    Y = [float(y) for y in Y]\n",
    "\n",
    "    \n",
    "    X_interp = np.linspace(min(X), max(X), 100)  # Create a range of X values for interpolation\n",
    "    Y_interp = np.interp(X_interp, X, Y)  # Interpolate Y values for the new X values\n",
    "\n",
    "    # Create a continuous plot\n",
    "    plt.figure(figsize=(8, 4))\n",
    "    plt.plot(X_interp, Y_interp, linestyle='-', markersize=5)\n",
    "    plt.xlabel('N')\n",
    "    plt.ylabel('Error_Probability')\n",
    "    plt.title('Plot of Error_prob with respect to N (Interpolated)')\n",
    "    plt.grid(True)\n",
    "\n",
    "    # Show the plot\n",
    "    plt.show()\n",
    "\n",
    "\n"
   ]
  },
  {
   "cell_type": "code",
   "execution_count": 526,
   "id": "1a3d6339",
   "metadata": {},
   "outputs": [
    {
     "name": "stdout",
     "output_type": "stream",
     "text": [
      "inversion percentage :  0.38 %\n"
     ]
    }
   ],
   "source": [
    "N = 450 # length of ar to be generated randomly\n",
    "a,b = 1,10000 # range of numbers in the array [a,b]\n",
    "Pe = 0.01 # error probability tolerated for each VLBZ * n\n",
    "p = 0.20 # crossover probability\n",
    "\n",
    "res = test_VLBZ_NoisySorting(N,a,b,Pe,p)\n",
    "save_observations(N,a,b,Pe,p,res)"
   ]
  },
  {
   "cell_type": "code",
   "execution_count": 567,
   "id": "2a97a5b5",
   "metadata": {},
   "outputs": [
    {
     "name": "stdout",
     "output_type": "stream",
     "text": [
      "inversion percentage :  0.0 %\n",
      "inversion percentage :  0.53 %\n",
      "inversion percentage :  0.0 %\n",
      "inversion percentage :  0.26 %\n",
      "inversion percentage :  0.16 %\n",
      "inversion percentage :  1.3 %\n",
      "inversion percentage :  0.08 %\n",
      "inversion percentage :  2.69 %\n",
      "inversion percentage :  0.1 %\n",
      "inversion percentage :  1.8399999999999999 %\n"
     ]
    }
   ],
   "source": [
    "N = 10\n",
    "a,b = 1,10000 # range of numbers in the array [a,b]\n",
    "Pe = 0.01 # error probability tolerated for each VLBZ * n\n",
    "p = 0.20 # crossover probability\n",
    "\n",
    "while N<=100:\n",
    "    res = test_VLBZ_NoisySorting(N,a,b,Pe,p)\n",
    "    save_observations(N,a,b,Pe,p,res)\n",
    "    N = N + 10\n",
    "    "
   ]
  },
  {
   "cell_type": "code",
   "execution_count": 594,
   "id": "9154c934",
   "metadata": {},
   "outputs": [
    {
     "data": {
      "image/png": "[encoded data removed]",
      "text/plain": [
       "<Figure size 800x400 with 1 Axes>"
      ]
     },
     "metadata": {},
     "output_type": "display_data"
    }
   ],
   "source": [
    "extract_columns_to_lists('results.txt',0,5)"
   ]
  },
  {
   "cell_type": "code",
   "execution_count": null,
   "id": "8541eca0",
   "metadata": {},
   "outputs": [],
   "source": []
  }
 ],
 "metadata": {
  "kernelspec": {
   "display_name": "Python 3 (ipykernel)",
   "language": "python",
   "name": "python3"
  },
  "language_info": {
   "codemirror_mode": {
    "name": "ipython",
    "version": 3
   },
   "file_extension": ".py",
   "mimetype": "text/x-python",
   "name": "python",
   "nbconvert_exporter": "python",
   "pygments_lexer": "ipython3",
   "version": "3.9.13"
  }
 },
 "nbformat": 4,
 "nbformat_minor": 5
}
