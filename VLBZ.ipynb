{
 "cells": [
  {
   "cell_type": "code",
   "execution_count": 3,
   "id": "e448e8e0",
   "metadata": {},
   "outputs": [],
   "source": [
    "import numpy as np\n",
    "import random\n",
    "import math"
   ]
  },
  {
   "cell_type": "code",
   "execution_count": 22,
   "id": "a2f8de76",
   "metadata": {},
   "outputs": [],
   "source": [
    "def rho(x,p):\n",
    "    ans = (1-p)*math.log2(1+(1-2*p)*x) + p*math.log2(1-(1-2*p)*x)\n",
    "    return ans\n",
    "\n",
    "# Variable Length BZ Algorithm\n",
    "# takes input array ar, tolerated prob Pe, and crossover prob p\n",
    "def VLBZ(ar,num,Pe,p):\n",
    "    # current step\n",
    "    k = 0\n",
    "    n = len(ar)\n",
    "    if(n==1):\n",
    "        return 0 if num<ar[0] else 1\n",
    "    q = np.ones(n)/n\n",
    "    Z = 1/(1-q)\n",
    "    while np.max(Z)<=math.log2(1/Pe):\n",
    "        k = k + 1\n",
    "        sum = 0\n",
    "        j = -1\n",
    "        while sum<=0.5:\n",
    "            print(sum,j)\n",
    "            j = j + 1\n",
    "            sum = sum + q[j]\n",
    "        t1 = 2*(1-sum+q[j]-0.5)\n",
    "        t2 = 2*(sum-0.5)\n",
    "        pi1 = (rho(t2,p)-rho(-t2,p))/(rho(t1,p)-rho(-t1,p)+rho(t2,p)-rho(-t2,p))\n",
    "        sub = 1 if random.random()<pi1 else 0\n",
    "        j_star = j - sub\n",
    "        t = 2*(sum-ar[j])-1 if j_star==j-1 else 2*(sum)-1\n",
    "        Y = 1 if ar[j_star]<num else 0\n",
    "        N = 1 if random.random()<p else 0\n",
    "        Y = Y ^ N\n",
    "        f1 = np.ones(n)\n",
    "        cond = np.ones(n,dtype=bool)\n",
    "        for i in range(n):\n",
    "            q[i]=(f1[i] if ((j_star<=i) == (Y)) else f1[i]*p/(1-p))\n",
    "        Z = q/(1-q)\n",
    "    \n",
    "    l = np.argmax(q)\n",
    "    return l"
   ]
  },
  {
   "cell_type": "code",
   "execution_count": 28,
   "id": "e2216d9d",
   "metadata": {},
   "outputs": [
    {
     "name": "stdout",
     "output_type": "stream",
     "text": [
      "0 -1\n",
      "0.25 0\n",
      "0.5 1\n",
      "ans =  1\n"
     ]
    },
    {
     "name": "stderr",
     "output_type": "stream",
     "text": [
      "/tmp/ipykernel_3918/2367448459.py:36: RuntimeWarning: divide by zero encountered in true_divide\n",
      "  Z = q/(1-q)\n"
     ]
    }
   ],
   "source": [
    "print('ans = ',str(VLBZ([1,3,8,12],7,0.2,0.3)))"
   ]
  },
  {
   "cell_type": "code",
   "execution_count": null,
   "id": "d28f1419",
   "metadata": {},
   "outputs": [],
   "source": []
  }
 ],
 "metadata": {
  "kernelspec": {
   "display_name": "Python 3 (ipykernel)",
   "language": "python",
   "name": "python3"
  },
  "language_info": {
   "codemirror_mode": {
    "name": "ipython",
    "version": 3
   },
   "file_extension": ".py",
   "mimetype": "text/x-python",
   "name": "python",
   "nbconvert_exporter": "python",
   "pygments_lexer": "ipython3",
   "version": "3.9.13"
  }
 },
 "nbformat": 4,
 "nbformat_minor": 5
}
